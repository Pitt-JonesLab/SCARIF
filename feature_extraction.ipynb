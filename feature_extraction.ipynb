{
 "cells": [
  {
   "cell_type": "markdown",
   "metadata": {},
   "source": [
    "HP model:\n",
    "- wash the data collected from HP's report\n",
    "- make predictions"
   ]
  },
  {
   "cell_type": "code",
   "execution_count": 19,
   "metadata": {},
   "outputs": [],
   "source": [
    "class predictor:\n",
    "    def __init__(self) -> None:\n",
    "        K1 = 17\n",
    "        K2 = 1\n",
    "        K3 = 80\n",
    "    def setup(self, CPU_core_num, DRAM, SSD, HDD, year):\n",
    "        return 0\n",
    "    def print():\n",
    "        return 0"
   ]
  },
  {
   "cell_type": "code",
   "execution_count": 20,
   "metadata": {},
   "outputs": [
    {
     "name": "stdout",
     "output_type": "stream",
     "text": [
      "['Year', 'Model', 'CPU quant', '#cores per CPU', 'DRAM', 'SSD quant', 'size per SSD', 'Embodied Carbon ', 'TEC', 'Operational Carbon', 'Transportation', 'EOL carbon', 'Total carbon', 'std', 'Mainboard carbon', 'SSD carbon', 'Daughterboard carbon', 'Enclose/Fan/PSU carbon']\n"
     ]
    }
   ],
   "source": [
    "import sklearn\n",
    "from sklearn.model_selection import train_test_split\n",
    "import pandas as pd\n",
    "\n",
    "df = pd.read_csv(\"original_data/HP_data.csv\")\n",
    "features = df.columns.values.tolist()\n",
    "print(features)"
   ]
  },
  {
   "cell_type": "markdown",
   "metadata": {},
   "source": [
    "extract features for model"
   ]
  },
  {
   "cell_type": "code",
   "execution_count": 21,
   "metadata": {},
   "outputs": [
    {
     "name": "stdout",
     "output_type": "stream",
     "text": [
      "/////x://///\n",
      "   CPU core number  DRAM size  Year\n",
      "0             12.0       64.0  22.9\n",
      "1             32.0      512.0  22.9\n",
      "3             12.0       64.0  17.9\n",
      "4             32.0      256.0  17.9\n",
      "6              8.0       64.0  21.3\n",
      "7             32.0      512.0  21.3\n",
      "/////y://///\n",
      "   total carbon\n",
      "0        1894.4\n",
      "1        2462.0\n",
      "3        1794.4\n",
      "4        1861.0\n",
      "6        1878.4\n",
      "7        2513.0\n"
     ]
    }
   ],
   "source": [
    "features = ['CPU core number', 'DRAM size','Year']\n",
    "logits = ['total carbon']\n",
    "\n",
    "SSD_carbon_per_GB = 0.16\n",
    "fixed_intercept = 1100\n",
    "\n",
    "x = pd.DataFrame(columns=features,dtype=float)\n",
    "y = pd.DataFrame(columns=logits,dtype=float)\n",
    "for idx,row in df.iterrows():\n",
    "    # if idx==0 or idx==2 or idx == 5 or idx==8:\n",
    "    if idx in [5,8,2]:\n",
    "        continue\n",
    "    if pd.isna(row['#cores per CPU']):#clean entries without critical frature\n",
    "        continue\n",
    "    mm,dd,yy = map(int,row[\"Year\"].split('/'))\n",
    "    year = yy-2000\n",
    "    if mm==11:\n",
    "        year += 0.9\n",
    "    elif mm==4:\n",
    "        year += 0.3\n",
    "    else:\n",
    "        year += mm/12\n",
    "    CPU_core_number = row['CPU quant']*row['#cores per CPU']\n",
    "    DRAM_size = row['DRAM']\n",
    "    x.loc[idx] = [CPU_core_number, DRAM_size, year]\n",
    "\n",
    "    #here we fix the ssd coefficient by modifying the total carbon before LP\n",
    "    SSD_size = row['size per SSD']*row['SSD quant']\n",
    "    y.loc[idx] = row['Embodied Carbon '] - SSD_carbon_per_GB*SSD_size +fixed_intercept\n",
    "\n",
    "    \n",
    "\n",
    "print(\"/////x://///\")\n",
    "print(x)\n",
    "print(\"/////y://///\")\n",
    "print(y)"
   ]
  },
  {
   "cell_type": "markdown",
   "metadata": {},
   "source": [
    "Linear Regression"
   ]
  },
  {
   "cell_type": "code",
   "execution_count": 22,
   "metadata": {},
   "outputs": [
    {
     "name": "stdout",
     "output_type": "stream",
     "text": [
      "[[ 5.0117352   0.95191529 83.08576834]]\n",
      "0.0\n",
      "train_MSE: 11546.287834494287\n",
      "train score 0.8710027855096113\n"
     ]
    }
   ],
   "source": [
    "from sklearn import  linear_model\n",
    "from sklearn.metrics import mean_squared_error as MSE\n",
    "LR= linear_model.LinearRegression(fit_intercept=False, positive=True)\n",
    "# LR= linear_model.LinearRegression()\n",
    "model = LR.fit(x,y)\n",
    "\n",
    "print(model.coef_)\n",
    "print(model.intercept_)\n",
    "print(\"train_MSE:\",MSE(y.values,model.predict(x)))\n",
    "print(\"train score\",model.score(x,y))\n",
    "\n",
    "\n",
    "# print(model.predict([[1,2,3]]))"
   ]
  }
 ],
 "metadata": {
  "kernelspec": {
   "display_name": "base",
   "language": "python",
   "name": "python3"
  },
  "language_info": {
   "codemirror_mode": {
    "name": "ipython",
    "version": 3
   },
   "file_extension": ".py",
   "mimetype": "text/x-python",
   "name": "python",
   "nbconvert_exporter": "python",
   "pygments_lexer": "ipython3",
   "version": "3.11.4"
  }
 },
 "nbformat": 4,
 "nbformat_minor": 2
}
